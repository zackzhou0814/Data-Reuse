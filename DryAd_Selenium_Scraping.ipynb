{
  "nbformat": 4,
  "nbformat_minor": 0,
  "metadata": {
    "colab": {
      "name": "DryAd-Selenium-Scraping.ipynb",
      "provenance": [],
      "collapsed_sections": [],
      "include_colab_link": true
    },
    "kernelspec": {
      "name": "python3",
      "display_name": "Python 3"
    },
    "language_info": {
      "name": "python"
    }
  },
  "cells": [
    {
      "cell_type": "markdown",
      "metadata": {
        "id": "view-in-github",
        "colab_type": "text"
      },
      "source": [
        "<a href=\"https://colab.research.google.com/github/zackzhou0814/Data-Reuse/blob/main/DryAd_Selenium_Scraping.ipynb\" target=\"_parent\"><img src=\"https://colab.research.google.com/assets/colab-badge.svg\" alt=\"Open In Colab\"/></a>"
      ]
    },
    {
      "cell_type": "code",
      "metadata": {
        "id": "Y-Y_T4erhVAW",
        "colab": {
          "base_uri": "https://localhost:8080/"
        },
        "outputId": "2d4ac3e0-8dcb-4063-cd5d-c16cd6e4c11f"
      },
      "source": [
        "!pip install kora -q\n",
        "from kora.selenium import wd\n",
        "#wd.get(\"url\")"
      ],
      "execution_count": 1,
      "outputs": [
        {
          "output_type": "stream",
          "text": [
            "\u001b[K     |████████████████████████████████| 61kB 2.9MB/s \n",
            "\u001b[K     |████████████████████████████████| 61kB 4.1MB/s \n",
            "\u001b[?25h"
          ],
          "name": "stdout"
        }
      ]
    },
    {
      "cell_type": "code",
      "metadata": {
        "id": "ra_haHJBhtYS"
      },
      "source": [
        "wd.get(\"https://datadryad.org/stash/dataset/doi:10.5061/dryad.k7t20\")"
      ],
      "execution_count": 4,
      "outputs": []
    },
    {
      "cell_type": "code",
      "metadata": {
        "colab": {
          "base_uri": "https://localhost:8080/"
        },
        "id": "44XtKce0h8ES",
        "outputId": "8839ede7-6b6e-4fb3-f6aa-327e8dd6011f"
      },
      "source": [
        "metircs_html = wd.find_elements_by_class_name(\"o-metrics__number\")\n",
        "\n",
        "print(metircs_html)"
      ],
      "execution_count": 5,
      "outputs": [
        {
          "output_type": "stream",
          "text": [
            "[<div class=\"o-metrics__number\">\n",
            "    295 views\n",
            "  </div>, <div class=\"o-metrics__number\">72 downloads</div>, <div class=\"o-metrics__number\" id=\"metrics_citation_count\">\n",
            "      <a id=\"citation_link\" data-remote=\"true\" href=\"/stash/landing/citations/1596\">1 citations</a>\n",
            "  </div>, <div class=\"o-metrics__number\" id=\"metrics_citation_spinner\" style=\"display: none;\">\n",
            "    <img alt=\"Loading spinner\" src=\"/assets/stash_engine/spinner-47c716a105894b5888f62cfa3108a66830f958e41247c4396d70a57821464ffa.gif\" width=\"80\" height=\"60\">\n",
            "  </div>]\n"
          ],
          "name": "stdout"
        }
      ]
    },
    {
      "cell_type": "code",
      "metadata": {
        "colab": {
          "base_uri": "https://localhost:8080/"
        },
        "id": "rEUWVh0Gy18V",
        "outputId": "7f32a853-adec-4a72-f329-dd7922f169a3"
      },
      "source": [
        "listToStr = ' '.join([str(elem) for elem in metircs_html])\n",
        "print(listToStr)\n",
        "\n",
        "\n"
      ],
      "execution_count": 7,
      "outputs": [
        {
          "output_type": "stream",
          "text": [
            "<div class=\"o-metrics__number\">\n",
            "    295 views\n",
            "  </div> <div class=\"o-metrics__number\">72 downloads</div> <div class=\"o-metrics__number\" id=\"metrics_citation_count\">\n",
            "      <a id=\"citation_link\" data-remote=\"true\" href=\"/stash/landing/citations/1596\">1 citations</a>\n",
            "  </div> <div class=\"o-metrics__number\" id=\"metrics_citation_spinner\" style=\"display: none;\">\n",
            "    <img alt=\"Loading spinner\" src=\"/assets/stash_engine/spinner-47c716a105894b5888f62cfa3108a66830f958e41247c4396d70a57821464ffa.gif\" width=\"80\" height=\"60\">\n",
            "  </div>\n"
          ],
          "name": "stdout"
        }
      ]
    },
    {
      "cell_type": "code",
      "metadata": {
        "colab": {
          "base_uri": "https://localhost:8080/"
        },
        "id": "WY-UW83m6ZKS",
        "outputId": "3fba1047-aaa6-4ebd-a553-47f636acbe0b"
      },
      "source": [
        "view_index = listToStr.index(\"views\")\n",
        "first_num_index = view_index-2\n",
        "\n",
        "view_number_in_str = \"\"\n",
        "\n",
        "while(listToStr[first_num_index]!=\" \"):\n",
        "  view_number_in_str+=listToStr[first_num_index]\n",
        "  first_num_index-=1\n",
        "\n",
        "num_views = int(view_number_in_str[::-1])\n",
        "print(num_views)"
      ],
      "execution_count": 11,
      "outputs": [
        {
          "output_type": "stream",
          "text": [
            "295\n"
          ],
          "name": "stdout"
        }
      ]
    },
    {
      "cell_type": "code",
      "metadata": {
        "colab": {
          "base_uri": "https://localhost:8080/"
        },
        "id": "mM5LUbm36ngQ",
        "outputId": "c6f78f6e-5aa6-4171-e460-393c04b2ec82"
      },
      "source": [
        "downloads_index = listToStr.index(\"downloads\")\n",
        "first_num_index = downloads_index-2\n",
        "downloads_number_in_str = \"\"\n",
        "\n",
        "while(listToStr[first_num_index]!=\">\"):\n",
        "  downloads_number_in_str+=listToStr[first_num_index]\n",
        "  first_num_index-=1\n",
        "\n",
        "num_downloads = int(downloads_number_in_str[::-1])\n",
        "print(num_downloads)"
      ],
      "execution_count": 9,
      "outputs": [
        {
          "output_type": "stream",
          "text": [
            "72\n"
          ],
          "name": "stdout"
        }
      ]
    },
    {
      "cell_type": "code",
      "metadata": {
        "colab": {
          "base_uri": "https://localhost:8080/"
        },
        "id": "8zRuwcrG7Q4g",
        "outputId": "c5f1c07b-8ff9-4601-dff7-db6c25189440"
      },
      "source": [
        "citations_index = listToStr.index(\" citations\")\n",
        "first_num_index = citations_index-1\n",
        "citations_number_in_str = \"\"\n",
        "\n",
        "while(listToStr[first_num_index]!=\">\"):\n",
        "  citations_number_in_str+=listToStr[first_num_index]\n",
        "  first_num_index-=1\n",
        "\n",
        "num_citations = int(citations_number_in_str[::-1])\n",
        "print(num_citations)"
      ],
      "execution_count": 10,
      "outputs": [
        {
          "output_type": "stream",
          "text": [
            "1\n"
          ],
          "name": "stdout"
        }
      ]
    }
  ]
}